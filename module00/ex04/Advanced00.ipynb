{
  "nbformat": 4,
  "nbformat_minor": 0,
  "metadata": {
    "colab": {
      "provenance": []
    },
    "kernelspec": {
      "name": "python3",
      "display_name": "Python 3"
    },
    "language_info": {
      "name": "python"
    }
  },
  "cells": [
    {
      "cell_type": "code",
      "source": [
        "from google.colab import files\n",
        "uploaded = files.upload()"
      ],
      "metadata": {
        "id": "QEkqYFfTG8-I",
        "colab": {
          "base_uri": "https://localhost:8080/",
          "height": 76
        },
        "outputId": "b33ae2fd-56b0-407a-f511-bd683643994b"
      },
      "execution_count": null,
      "outputs": [
        {
          "output_type": "display_data",
          "data": {
            "text/plain": [
              "<IPython.core.display.HTML object>"
            ],
            "text/html": [
              "\n",
              "     <input type=\"file\" id=\"files-c25f5ea1-4b14-4592-91e5-1f37afb62624\" name=\"files[]\" multiple disabled\n",
              "        style=\"border:none\" />\n",
              "     <output id=\"result-c25f5ea1-4b14-4592-91e5-1f37afb62624\">\n",
              "      Upload widget is only available when the cell has been executed in the\n",
              "      current browser session. Please rerun this cell to enable.\n",
              "      </output>\n",
              "      <script>// Copyright 2017 Google LLC\n",
              "//\n",
              "// Licensed under the Apache License, Version 2.0 (the \"License\");\n",
              "// you may not use this file except in compliance with the License.\n",
              "// You may obtain a copy of the License at\n",
              "//\n",
              "//      http://www.apache.org/licenses/LICENSE-2.0\n",
              "//\n",
              "// Unless required by applicable law or agreed to in writing, software\n",
              "// distributed under the License is distributed on an \"AS IS\" BASIS,\n",
              "// WITHOUT WARRANTIES OR CONDITIONS OF ANY KIND, either express or implied.\n",
              "// See the License for the specific language governing permissions and\n",
              "// limitations under the License.\n",
              "\n",
              "/**\n",
              " * @fileoverview Helpers for google.colab Python module.\n",
              " */\n",
              "(function(scope) {\n",
              "function span(text, styleAttributes = {}) {\n",
              "  const element = document.createElement('span');\n",
              "  element.textContent = text;\n",
              "  for (const key of Object.keys(styleAttributes)) {\n",
              "    element.style[key] = styleAttributes[key];\n",
              "  }\n",
              "  return element;\n",
              "}\n",
              "\n",
              "// Max number of bytes which will be uploaded at a time.\n",
              "const MAX_PAYLOAD_SIZE = 100 * 1024;\n",
              "\n",
              "function _uploadFiles(inputId, outputId) {\n",
              "  const steps = uploadFilesStep(inputId, outputId);\n",
              "  const outputElement = document.getElementById(outputId);\n",
              "  // Cache steps on the outputElement to make it available for the next call\n",
              "  // to uploadFilesContinue from Python.\n",
              "  outputElement.steps = steps;\n",
              "\n",
              "  return _uploadFilesContinue(outputId);\n",
              "}\n",
              "\n",
              "// This is roughly an async generator (not supported in the browser yet),\n",
              "// where there are multiple asynchronous steps and the Python side is going\n",
              "// to poll for completion of each step.\n",
              "// This uses a Promise to block the python side on completion of each step,\n",
              "// then passes the result of the previous step as the input to the next step.\n",
              "function _uploadFilesContinue(outputId) {\n",
              "  const outputElement = document.getElementById(outputId);\n",
              "  const steps = outputElement.steps;\n",
              "\n",
              "  const next = steps.next(outputElement.lastPromiseValue);\n",
              "  return Promise.resolve(next.value.promise).then((value) => {\n",
              "    // Cache the last promise value to make it available to the next\n",
              "    // step of the generator.\n",
              "    outputElement.lastPromiseValue = value;\n",
              "    return next.value.response;\n",
              "  });\n",
              "}\n",
              "\n",
              "/**\n",
              " * Generator function which is called between each async step of the upload\n",
              " * process.\n",
              " * @param {string} inputId Element ID of the input file picker element.\n",
              " * @param {string} outputId Element ID of the output display.\n",
              " * @return {!Iterable<!Object>} Iterable of next steps.\n",
              " */\n",
              "function* uploadFilesStep(inputId, outputId) {\n",
              "  const inputElement = document.getElementById(inputId);\n",
              "  inputElement.disabled = false;\n",
              "\n",
              "  const outputElement = document.getElementById(outputId);\n",
              "  outputElement.innerHTML = '';\n",
              "\n",
              "  const pickedPromise = new Promise((resolve) => {\n",
              "    inputElement.addEventListener('change', (e) => {\n",
              "      resolve(e.target.files);\n",
              "    });\n",
              "  });\n",
              "\n",
              "  const cancel = document.createElement('button');\n",
              "  inputElement.parentElement.appendChild(cancel);\n",
              "  cancel.textContent = 'Cancel upload';\n",
              "  const cancelPromise = new Promise((resolve) => {\n",
              "    cancel.onclick = () => {\n",
              "      resolve(null);\n",
              "    };\n",
              "  });\n",
              "\n",
              "  // Wait for the user to pick the files.\n",
              "  const files = yield {\n",
              "    promise: Promise.race([pickedPromise, cancelPromise]),\n",
              "    response: {\n",
              "      action: 'starting',\n",
              "    }\n",
              "  };\n",
              "\n",
              "  cancel.remove();\n",
              "\n",
              "  // Disable the input element since further picks are not allowed.\n",
              "  inputElement.disabled = true;\n",
              "\n",
              "  if (!files) {\n",
              "    return {\n",
              "      response: {\n",
              "        action: 'complete',\n",
              "      }\n",
              "    };\n",
              "  }\n",
              "\n",
              "  for (const file of files) {\n",
              "    const li = document.createElement('li');\n",
              "    li.append(span(file.name, {fontWeight: 'bold'}));\n",
              "    li.append(span(\n",
              "        `(${file.type || 'n/a'}) - ${file.size} bytes, ` +\n",
              "        `last modified: ${\n",
              "            file.lastModifiedDate ? file.lastModifiedDate.toLocaleDateString() :\n",
              "                                    'n/a'} - `));\n",
              "    const percent = span('0% done');\n",
              "    li.appendChild(percent);\n",
              "\n",
              "    outputElement.appendChild(li);\n",
              "\n",
              "    const fileDataPromise = new Promise((resolve) => {\n",
              "      const reader = new FileReader();\n",
              "      reader.onload = (e) => {\n",
              "        resolve(e.target.result);\n",
              "      };\n",
              "      reader.readAsArrayBuffer(file);\n",
              "    });\n",
              "    // Wait for the data to be ready.\n",
              "    let fileData = yield {\n",
              "      promise: fileDataPromise,\n",
              "      response: {\n",
              "        action: 'continue',\n",
              "      }\n",
              "    };\n",
              "\n",
              "    // Use a chunked sending to avoid message size limits. See b/62115660.\n",
              "    let position = 0;\n",
              "    do {\n",
              "      const length = Math.min(fileData.byteLength - position, MAX_PAYLOAD_SIZE);\n",
              "      const chunk = new Uint8Array(fileData, position, length);\n",
              "      position += length;\n",
              "\n",
              "      const base64 = btoa(String.fromCharCode.apply(null, chunk));\n",
              "      yield {\n",
              "        response: {\n",
              "          action: 'append',\n",
              "          file: file.name,\n",
              "          data: base64,\n",
              "        },\n",
              "      };\n",
              "\n",
              "      let percentDone = fileData.byteLength === 0 ?\n",
              "          100 :\n",
              "          Math.round((position / fileData.byteLength) * 100);\n",
              "      percent.textContent = `${percentDone}% done`;\n",
              "\n",
              "    } while (position < fileData.byteLength);\n",
              "  }\n",
              "\n",
              "  // All done.\n",
              "  yield {\n",
              "    response: {\n",
              "      action: 'complete',\n",
              "    }\n",
              "  };\n",
              "}\n",
              "\n",
              "scope.google = scope.google || {};\n",
              "scope.google.colab = scope.google.colab || {};\n",
              "scope.google.colab._files = {\n",
              "  _uploadFiles,\n",
              "  _uploadFilesContinue,\n",
              "};\n",
              "})(self);\n",
              "</script> "
            ]
          },
          "metadata": {}
        },
        {
          "output_type": "stream",
          "name": "stdout",
          "text": [
            "Saving 0_and_1.csv to 0_and_1 (2).csv\n"
          ]
        }
      ]
    },
    {
      "cell_type": "code",
      "source": [
        "# import required libraries\n",
        "import numpy as np\n",
        "import matplotlib.pyplot as plt\n",
        "np.random.seed(42)"
      ],
      "metadata": {
        "id": "Hl7Xc5yMDowz"
      },
      "execution_count": null,
      "outputs": []
    },
    {
      "cell_type": "code",
      "source": [
        "# Read the data from the CSV file using NumPy\n",
        "data = np.genfromtxt(\"0_and_1.csv\", delimiter=',', skip_header=1)\n",
        "# print(data)\n",
        "\n",
        "# Extract the target variable Y and reshape it\n",
        "Y = data[:, 0]\n",
        "Y = Y.reshape(-1,1)\n",
        "# print(Y)\n",
        "\n",
        "# Remove the label column from X and transpose the matrix\n",
        "X = data[:, 1:]\n",
        "# print(X)"
      ],
      "metadata": {
        "id": "jQ43NwG_ufUw"
      },
      "execution_count": null,
      "outputs": []
    },
    {
      "cell_type": "code",
      "source": [
        "# Print the shape of Y and X\n",
        "print(\"X\", X.shape)\n",
        "print(\"Y\", Y.shape)"
      ],
      "metadata": {
        "id": "tys0pHzid8mr",
        "colab": {
          "base_uri": "https://localhost:8080/"
        },
        "outputId": "2042c138-20e7-415f-ccb3-12c441abf0a9"
      },
      "execution_count": null,
      "outputs": [
        {
          "output_type": "stream",
          "name": "stdout",
          "text": [
            "X (8816, 784)\n",
            "Y (8816, 1)\n"
          ]
        }
      ]
    },
    {
      "cell_type": "code",
      "source": [
        "# Create a figure to plot the images\n",
        "fig = plt.figure(figsize=(8, 8))\n",
        "columns = 4\n",
        "rows = 5\n",
        "\n",
        "# Loop through and display each image\n",
        "for i in range(1, columns * rows + 1):\n",
        "    X1 = X[i]  # Extract the i-th column (i-th image)\n",
        "    X1 = X1.reshape(28, 28)  # Reshape the flattened image to (28, 28)\n",
        "    fig.add_subplot(rows, columns, i)  # Add a subplot to the figure\n",
        "    plt.imshow(X1, cmap='gray')  # Display the image using a grayscale colormap\n",
        "\n",
        "# Show the plot\n",
        "plt.show()"
      ],
      "metadata": {
        "id": "J1NDXUO6dzol",
        "colab": {
          "base_uri": "https://localhost:8080/",
          "height": 680
        },
        "outputId": "37aa75c3-c82c-4222-9361-9460c4c25399"
      },
      "execution_count": null,
      "outputs": [
        {
          "output_type": "display_data",
          "data": {
            "text/plain": [
              "<Figure size 800x800 with 20 Axes>"
            ],
            "image/png": "[encoded data removed]"
          },
          "metadata": {}
        }
      ]
    },
    {
      "cell_type": "code",
      "source": [
        "import numpy as np\n",
        "\n",
        "def sigmoid(x, derivative=False):\n",
        "    \"\"\"\n",
        "    Compute the sigmoid function or its derivative.\n",
        "\n",
        "    :param x: Input value or array.\n",
        "    :param derivative: If True, compute the derivative of the sigmoid function.\n",
        "    :return: Sigmoid function or its derivative.\n",
        "    \"\"\"\n",
        "    if derivative == False:\n",
        "        return 1 / (1 + np.exp(-x))\n",
        "    else:\n",
        "        return sigmoid(x, False) * (1 - sigmoid(x, False))"
      ],
      "metadata": {
        "id": "H6YUnxUid9ad"
      },
      "execution_count": null,
      "outputs": []
    },
    {
      "cell_type": "code",
      "source": [
        "print(sigmoid(0))                   # Output: 0.5\n",
        "print(sigmoid(0, derivative=True))  # Output: 0.25"
      ],
      "metadata": {
        "colab": {
          "base_uri": "https://localhost:8080/"
        },
        "id": "ASHVvoY7lr5A",
        "outputId": "113b31e1-7779-41ad-9e15-7195f0a937fa"
      },
      "execution_count": null,
      "outputs": [
        {
          "output_type": "stream",
          "name": "stdout",
          "text": [
            "0.5\n",
            "0.25\n"
          ]
        }
      ]
    },
    {
      "cell_type": "code",
      "source": [
        "def network_architecture(X, Y):\n",
        "    # Number of nodes in the input layer\n",
        "    n_x = X.shape[1]\n",
        "    # Number of nodes in the hidden layer\n",
        "    n_h = 10\n",
        "    # Number of nodes in the output layer\n",
        "    n_y = Y.shape[1]\n",
        "    return (n_x, n_h, n_y)\n",
        "\n",
        "# Get the network architecture dimensions\n",
        "n_x, n_h, n_y = network_architecture(X, Y)\n",
        "\n",
        "# Print the number of nodes in each layer\n",
        "print(\"Number of nodes in input layer (n_x):\", n_x)\n",
        "print(\"Number of nodes in hidden layer (n_h):\", n_h)\n",
        "print(\"Number of nodes in output layer (n_y):\", n_y)"
      ],
      "metadata": {
        "colab": {
          "base_uri": "https://localhost:8080/"
        },
        "id": "fKHXfkheltty",
        "outputId": "db76bdd5-3ebc-4b6c-b7d2-572a968cbb39"
      },
      "execution_count": null,
      "outputs": [
        {
          "output_type": "stream",
          "name": "stdout",
          "text": [
            "Number of nodes in input layer (n_x): 784\n",
            "Number of nodes in hidden layer (n_h): 10\n",
            "Number of nodes in output layer (n_y): 1\n"
          ]
        }
      ]
    },
    {
      "cell_type": "code",
      "source": [
        "def define_network_parameters(n_x, n_h, n_y):\n",
        "    # Initialize weights and biases for the first layer\n",
        "    W1 = np.random.randn(n_h, n_x) * 0.01  # Random initialization with small values\n",
        "    b1 = np.zeros((n_h, 1))  # Initialize biases with zeros\n",
        "\n",
        "    # Initialize weights and biases for the second layer\n",
        "    W2 = np.random.randn(n_y, n_h) * 0.01                              # Random initialization with small values\n",
        "    b2 = np.zeros((n_y, 1))  # Initialize biases with zeros\n",
        "\n",
        "    # Store the parameters in a dictionary\n",
        "    parameters = {\"W1\": W1, \"b1\": b1, \"W2\": W2, \"b2\": b2}\n",
        "    # print(parameters)\n",
        "    # print(W1.shape, b1.shape, W2.shape, b2.shape)\n",
        "    return parameters"
      ],
      "metadata": {
        "id": "qqHMw57Dlvx4"
      },
      "execution_count": null,
      "outputs": []
    },
    {
      "cell_type": "code",
      "source": [
        "# Get the neural network architecture dimensions\n",
        "n_x, n_h, n_y = network_architecture(X, Y)\n",
        "\n",
        "# Define the network parameters using the obtained dimensions\n",
        "params = define_network_parameters(n_x, n_h, n_y)"
      ],
      "metadata": {
        "id": "Um4JKw0tlxdh"
      },
      "execution_count": null,
      "outputs": []
    },
    {
      "cell_type": "code",
      "source": [
        "# Recall that Z = W*X + b & A = g(Z)\n",
        "\n",
        "# Define the forward propagation function\n",
        "def forward_propagation(X, params):\n",
        "    # Calculate the weighted sum and apply activation function for the first layer\n",
        "    Z1 = params[\"W1\"] @ X.T + params[\"b1\"]\n",
        "    A1 = sigmoid(Z1, False)\n",
        "\n",
        "    # Calculate the weighted sum and apply activation function for the second layer\n",
        "    Z2 = params[\"W2\"] @ A1 + params[\"b2\"]\n",
        "    A2 = sigmoid(Z2, False)\n",
        "\n",
        "    # Return the calculated intermediate results\n",
        "    return {\"Z1\": Z1, \"A1\": A1, \"Z2\": Z2, \"A2\": A2}"
      ],
      "metadata": {
        "id": "S_GpnoJzlyyb"
      },
      "execution_count": null,
      "outputs": []
    },
    {
      "cell_type": "code",
      "source": [
        "# Perform forward propagation\n",
        "refor = forward_propagation(X, params)\n",
        "\n",
        "# Print the shapes of the intermediate variables\n",
        "print(\"Z1\", refor['Z1'].shape)\n",
        "print(\"A1\", refor['A1'].shape)\n",
        "print(\"Z2\", refor['Z2'].shape)\n",
        "print(\"A2\", refor['A2'].shape)"
      ],
      "metadata": {
        "colab": {
          "base_uri": "https://localhost:8080/"
        },
        "id": "_9m7LX9El06P",
        "outputId": "8e8148ce-3892-4f40-ed29-aac9797e8d77"
      },
      "execution_count": null,
      "outputs": [
        {
          "output_type": "stream",
          "name": "stdout",
          "text": [
            "Z1 (10, 8816)\n",
            "A1 (10, 8816)\n",
            "Z2 (1, 8816)\n",
            "A2 (1, 8816)\n"
          ]
        }
      ]
    },
    {
      "cell_type": "code",
      "source": [
        "def backward_propagation(params, activations, X, Y):\n",
        "    \"\"\"\n",
        "    Compute the derivatives of the loss with respect to the parameters using backpropagation.\n",
        "\n",
        "    :param params: Dictionary containing the current parameters.\n",
        "    :param activations: Dictionary containing the intermediate activations during forward propagation.\n",
        "    :param X: Input data.\n",
        "    :param Y: True labels.\n",
        "    :return: Dictionary containing the derivatives of the loss with respect to the parameters.\n",
        "    \"\"\"\n",
        "    m = X.shape[1]  # Number of training examples\n",
        "\n",
        "    # Output layer\n",
        "\n",
        "    dZ2 = (activations[\"A2\"] - Y.T) * sigmoid(activations[\"Z2\"], True)\n",
        "    dW2 = dZ2 @ activations[\"A1\"].T / m\n",
        "    db2 = np.sum(dZ2, axis=1, keepdims=True) / m\n",
        "\n",
        "    # Hidden layer\n",
        "    dZ1 = params[\"W2\"].T @ dZ2 * sigmoid(activations[\"Z1\"], True)\n",
        "    dW1 = dZ1 @ X / m\n",
        "    db1 = np.sum(dZ1, axis=1, keepdims=True) / m\n",
        "\n",
        "    return {\"dW1\": dW1, \"db1\": db1, \"dW2\": dW2, \"db2\": db2}\n",
        "\n",
        "\n",
        "def update_parameters(params, derivatives, alpha=0.1):\n",
        "    \"\"\"\n",
        "    Update the parameters using gradient descent.\n",
        "\n",
        "    :param params: Dictionary containing the current parameters.\n",
        "    :param derivatives: Dictionary containing the derivatives of the loss with respect to the parameters.\n",
        "    :param alpha: Learning rate.\n",
        "    :return: Updated parameters.\n",
        "    \"\"\"\n",
        "\n",
        "    params['W1'] -= derivatives['dW1'] * alpha\n",
        "    params['b1'] -= derivatives['db1'] * alpha\n",
        "    params['W2'] -= derivatives['dW2'] * alpha\n",
        "    params['b2'] -= derivatives['db2'] * alpha\n",
        "    return params"
      ],
      "metadata": {
        "id": "yPUY7wUbl3pQ"
      },
      "execution_count": null,
      "outputs": []
    },
    {
      "cell_type": "code",
      "source": [
        "# Update the parameters using gradient descent and print the updated parameters\n",
        "\n",
        "# Calculate the derivatives using backward propagation\n",
        "derivatives = backward_propagation(params, refor, X, Y)\n",
        "\n",
        "# Update the parameters using the derivatives and learning rate\n",
        "params = update_parameters(params, derivatives)\n",
        "\n",
        "# Print the updated parameters\n",
        "# print(params)"
      ],
      "metadata": {
        "id": "8gYZ3R4tl5QT"
      },
      "execution_count": null,
      "outputs": []
    },
    {
      "cell_type": "code",
      "source": [
        "def compute_error(Predicted, Actual):\n",
        "    \"\"\"\n",
        "    Compute the mean squared error between predicted values and actual values.\n",
        "\n",
        "    :param Predicted: Predicted values.\n",
        "    :param Actual: Actual values.\n",
        "    :return: Mean squared error.\n",
        "    \"\"\"\n",
        "    diff = Predicted - Actual.T\n",
        "    square = np.square(diff)\n",
        "    mean = np.mean(square)\n",
        "    return mean"
      ],
      "metadata": {
        "id": "ZGKJMsmml7Jz"
      },
      "execution_count": null,
      "outputs": []
    },
    {
      "cell_type": "code",
      "source": [
        "def neural_network(X, Y, num_iterations=10):\n",
        "    \"\"\"\n",
        "    Train a neural network model using gradient descent.\n",
        "\n",
        "    :param X: Input data.\n",
        "    :param Y: Target data.\n",
        "    :param num_iterations: Number of iterations for training.\n",
        "    :return: Trained parameters and cost history.\n",
        "    \"\"\"\n",
        "    n_x, n_h, n_y = network_architecture(X, Y)\n",
        "    params = define_network_parameters(n_x, n_h, n_y)\n",
        "    np.seterr(over='ignore')\n",
        "\n",
        "    err = []\n",
        "    print()\n",
        "\n",
        "    for i in range(num_iterations):\n",
        "      refor = forward_propagation(X, params)\n",
        "      derivatives = backward_propagation(params, refor, X, Y)\n",
        "      params = update_parameters(params, derivatives, 0.1)\n",
        "      e = compute_error(refor['A2'], Y)\n",
        "      err.append(e)\n",
        "      print(f\"[EPOCH] {i} [MSE] {e:10f}\")\n",
        "\n",
        "    return params, err\n",
        "\n"
      ],
      "metadata": {
        "id": "MmbDpQiSl8xx"
      },
      "execution_count": null,
      "outputs": []
    },
    {
      "cell_type": "code",
      "source": [
        "# Train the neural network model and retrieve the trained parameters and cost history\n",
        "model, cost = neural_network(X, Y, num_iterations=100)\n",
        "\n",
        "# Plot the cost history\n",
        "plt.plot(cost)\n",
        "plt.xlabel(\"Epochs\")\n",
        "plt.ylabel(\"MSE Loss\")\n",
        "plt.show()"
      ],
      "metadata": {
        "colab": {
          "base_uri": "https://localhost:8080/",
          "height": 1000
        },
        "id": "kg4M4WbfmAN8",
        "outputId": "a83fd405-5c5c-44db-e418-f5ba2012b796"
      },
      "execution_count": null,
      "outputs": [
        {
          "output_type": "stream",
          "name": "stdout",
          "text": [
            "\n",
            "[EPOCH] 0 [MSE]   0.249455\n",
            "[EPOCH] 1 [MSE]   0.232112\n",
            "[EPOCH] 2 [MSE]   0.201516\n",
            "[EPOCH] 3 [MSE]   0.186139\n",
            "[EPOCH] 4 [MSE]   0.162702\n",
            "[EPOCH] 5 [MSE]   0.125625\n",
            "[EPOCH] 6 [MSE]   0.102357\n",
            "[EPOCH] 7 [MSE]   0.080873\n",
            "[EPOCH] 8 [MSE]   0.067603\n",
            "[EPOCH] 9 [MSE]   0.057594\n",
            "[EPOCH] 10 [MSE]   0.050056\n",
            "[EPOCH] 11 [MSE]   0.044127\n",
            "[EPOCH] 12 [MSE]   0.039238\n",
            "[EPOCH] 13 [MSE]   0.035374\n",
            "[EPOCH] 14 [MSE]   0.031990\n",
            "[EPOCH] 15 [MSE]   0.029253\n",
            "[EPOCH] 16 [MSE]   0.026900\n",
            "[EPOCH] 17 [MSE]   0.025000\n",
            "[EPOCH] 18 [MSE]   0.023087\n",
            "[EPOCH] 19 [MSE]   0.021582\n",
            "[EPOCH] 20 [MSE]   0.020196\n",
            "[EPOCH] 21 [MSE]   0.019023\n",
            "[EPOCH] 22 [MSE]   0.017959\n",
            "[EPOCH] 23 [MSE]   0.016973\n",
            "[EPOCH] 24 [MSE]   0.016097\n",
            "[EPOCH] 25 [MSE]   0.015298\n",
            "[EPOCH] 26 [MSE]   0.014565\n",
            "[EPOCH] 27 [MSE]   0.013928\n",
            "[EPOCH] 28 [MSE]   0.013341\n",
            "[EPOCH] 29 [MSE]   0.012781\n",
            "[EPOCH] 30 [MSE]   0.012261\n",
            "[EPOCH] 31 [MSE]   0.011786\n",
            "[EPOCH] 32 [MSE]   0.011339\n",
            "[EPOCH] 33 [MSE]   0.010929\n",
            "[EPOCH] 34 [MSE]   0.010552\n",
            "[EPOCH] 35 [MSE]   0.010200\n",
            "[EPOCH] 36 [MSE]   0.009870\n",
            "[EPOCH] 37 [MSE]   0.009560\n",
            "[EPOCH] 38 [MSE]   0.009278\n",
            "[EPOCH] 39 [MSE]   0.009030\n",
            "[EPOCH] 40 [MSE]   0.008759\n",
            "[EPOCH] 41 [MSE]   0.008520\n",
            "[EPOCH] 42 [MSE]   0.008311\n",
            "[EPOCH] 43 [MSE]   0.008061\n",
            "[EPOCH] 44 [MSE]   0.007853\n",
            "[EPOCH] 45 [MSE]   0.007652\n",
            "[EPOCH] 46 [MSE]   0.007463\n",
            "[EPOCH] 47 [MSE]   0.007288\n",
            "[EPOCH] 48 [MSE]   0.007117\n",
            "[EPOCH] 49 [MSE]   0.006949\n",
            "[EPOCH] 50 [MSE]   0.006798\n",
            "[EPOCH] 51 [MSE]   0.006655\n",
            "[EPOCH] 52 [MSE]   0.006510\n",
            "[EPOCH] 53 [MSE]   0.006377\n",
            "[EPOCH] 54 [MSE]   0.006249\n",
            "[EPOCH] 55 [MSE]   0.006126\n",
            "[EPOCH] 56 [MSE]   0.006008\n",
            "[EPOCH] 57 [MSE]   0.005895\n",
            "[EPOCH] 58 [MSE]   0.005786\n",
            "[EPOCH] 59 [MSE]   0.005681\n",
            "[EPOCH] 60 [MSE]   0.005579\n",
            "[EPOCH] 61 [MSE]   0.005478\n",
            "[EPOCH] 62 [MSE]   0.005380\n",
            "[EPOCH] 63 [MSE]   0.005297\n",
            "[EPOCH] 64 [MSE]   0.005198\n",
            "[EPOCH] 65 [MSE]   0.005114\n",
            "[EPOCH] 66 [MSE]   0.005032\n",
            "[EPOCH] 67 [MSE]   0.004954\n",
            "[EPOCH] 68 [MSE]   0.004878\n",
            "[EPOCH] 69 [MSE]   0.004804\n",
            "[EPOCH] 70 [MSE]   0.004732\n",
            "[EPOCH] 71 [MSE]   0.004662\n",
            "[EPOCH] 72 [MSE]   0.004594\n",
            "[EPOCH] 73 [MSE]   0.004529\n",
            "[EPOCH] 74 [MSE]   0.004466\n",
            "[EPOCH] 75 [MSE]   0.004406\n",
            "[EPOCH] 76 [MSE]   0.004346\n",
            "[EPOCH] 77 [MSE]   0.004289\n",
            "[EPOCH] 78 [MSE]   0.004233\n",
            "[EPOCH] 79 [MSE]   0.004179\n",
            "[EPOCH] 80 [MSE]   0.004126\n",
            "[EPOCH] 81 [MSE]   0.004074\n",
            "[EPOCH] 82 [MSE]   0.004024\n",
            "[EPOCH] 83 [MSE]   0.003976\n",
            "[EPOCH] 84 [MSE]   0.003928\n",
            "[EPOCH] 85 [MSE]   0.003882\n",
            "[EPOCH] 86 [MSE]   0.003837\n",
            "[EPOCH] 87 [MSE]   0.003793\n",
            "[EPOCH] 88 [MSE]   0.003750\n",
            "[EPOCH] 89 [MSE]   0.003709\n",
            "[EPOCH] 90 [MSE]   0.003668\n",
            "[EPOCH] 91 [MSE]   0.003628\n",
            "[EPOCH] 92 [MSE]   0.003588\n",
            "[EPOCH] 93 [MSE]   0.003548\n",
            "[EPOCH] 94 [MSE]   0.003507\n",
            "[EPOCH] 95 [MSE]   0.003470\n",
            "[EPOCH] 96 [MSE]   0.003433\n",
            "[EPOCH] 97 [MSE]   0.003399\n",
            "[EPOCH] 98 [MSE]   0.003365\n",
            "[EPOCH] 99 [MSE]   0.003331\n"
          ]
        },
        {
          "output_type": "display_data",
          "data": {
            "text/plain": [
              "<Figure size 640x480 with 1 Axes>"
            ],
            "image/png": "[encoded data removed]"
          },
          "metadata": {}
        }
      ]
    },
    {
      "cell_type": "code",
      "source": [
        "def predict(parameters, X):\n",
        "    # Perform forward propagation to get the results\n",
        "    results = forward_propagation(X, parameters)\n",
        "\n",
        "    # Round the predictions to 0 or 1\n",
        "    predictions = np.around(results['A2'])\n",
        "\n",
        "    return predictions\n",
        "\n",
        "# Make predictions using the trained model\n",
        "predictions = predict(model, X)"
      ],
      "metadata": {
        "id": "MJA2scuLmCIF"
      },
      "execution_count": null,
      "outputs": []
    },
    {
      "cell_type": "code",
      "source": [
        "# Initialize an empty list to store the indices of misclassified examples\n",
        "Error = []\n",
        "\n",
        "pred = predictions.flatten()\n",
        "truth = Y.flatten()\n",
        "\n",
        "# print(predictions)\n",
        "\n",
        "for i in range(len(pred)):\n",
        "  if int(pred[i]) != int(truth[i]):\n",
        "    Error.append(i)\n",
        "\n",
        "# Print the indices of misclassified examples\n",
        "print(\"Indices of misclassified examples:\", Error)\n",
        "\n",
        "# Calculate the accuracy by subtracting the ratio of misclassified examples from 1 and multiplying by 100\n",
        "accuracy = ((X.shape[0] - len(Error)) / X.shape[0]) * 100\n",
        "\n",
        "# Print the accuracy as a percentage\n",
        "print(\"Accuracy: {:f}%\".format(accuracy))"
      ],
      "metadata": {
        "colab": {
          "base_uri": "https://localhost:8080/"
        },
        "id": "i2zHtuu_mDwc",
        "outputId": "db4ed32a-45e4-4033-ec55-ffc8a5b65031"
      },
      "execution_count": null,
      "outputs": [
        {
          "output_type": "stream",
          "name": "stdout",
          "text": [
            "Indices of misclassified examples: [332, 1364, 4749, 7653, 8199, 8215]\n",
            "Accuracy: 99.931942%\n"
          ]
        }
      ]
    },
    {
      "cell_type": "code",
      "source": [
        "#Display misclassified images\n",
        "\n",
        "fig = plt.figure(figsize=(8, 8))\n",
        "columns = 4\n",
        "rows = 5\n",
        "\n",
        "# Loop through and display each image\n",
        "\n",
        "j = 0\n",
        "for i in range(1, columns * rows + 1):\n",
        "    while j < len(Error):\n",
        "      idx = Error[j]\n",
        "      X1 = X[idx]  # Extract the i-th column (i-th image)\n",
        "      X1 = X1.reshape(28, 28)  # Reshape the flattened image to (28, 28)\n",
        "      fig.add_subplot(rows, columns, i)  # Add a subplot to the figure\n",
        "      plt.imshow(X1, cmap='gray')  # Display the image using a grayscale colormap\n",
        "      j+=1\n",
        "      break\n",
        "\n",
        "# Show the plot\n",
        "plt.show()"
      ],
      "metadata": {
        "id": "XpdAMRr5mGi3",
        "colab": {
          "base_uri": "https://localhost:8080/",
          "height": 297
        },
        "outputId": "9f85a41f-372c-450e-802b-9e447379721c"
      },
      "execution_count": null,
      "outputs": [
        {
          "output_type": "display_data",
          "data": {
            "text/plain": [
              "<Figure size 800x800 with 6 Axes>"
            ],
            "image/png": "[encoded data removed]"
          },
          "metadata": {}
        }
      ]
    }
  ]
}